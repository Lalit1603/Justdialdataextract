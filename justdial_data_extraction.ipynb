{
 "cells": [
  {
   "cell_type": "markdown",
   "id": "36892278",
   "metadata": {},
   "source": [
    "Extract the Data of Detists in the Dhule city From Justdial website."
   ]
  },
  {
   "cell_type": "code",
   "execution_count": 235,
   "id": "ebd3e2b5",
   "metadata": {},
   "outputs": [],
   "source": [
    "from selenium import webdriver\n",
    "from selenium.webdriver.common.keys import Keys\n",
    "from selenium.webdriver.common.by import By\n",
    "import time\n",
    "import pandas as pd\n",
    "import numpy as np"
   ]
  },
  {
   "cell_type": "code",
   "execution_count": 236,
   "id": "b9c42643",
   "metadata": {},
   "outputs": [],
   "source": [
    "driver = webdriver.Chrome()\n",
    "driver.get(\"https://www.justdial.com/Dhule/Dentists/nct-10156331\")\n"
   ]
  },
  {
   "cell_type": "code",
   "execution_count": 237,
   "id": "a67f2ea6",
   "metadata": {},
   "outputs": [],
   "source": [
    "info = driver.find_elements(By.CLASS_NAME,'resultbox_textbox')"
   ]
  },
  {
   "cell_type": "code",
   "execution_count": 238,
   "id": "86aa25cd",
   "metadata": {},
   "outputs": [],
   "source": [
    "name_list=[]\n",
    "addr_list=[]\n",
    "phone_list =[]\n",
    "rating_list=[]"
   ]
  },
  {
   "cell_type": "code",
   "execution_count": 239,
   "id": "aa3acb9c",
   "metadata": {},
   "outputs": [],
   "source": [
    "for i in range(len(info)):\n",
    "    name = info[i].find_element(By.CLASS_NAME,'resultbox_title').text\n",
    "    addr = info[i].find_element(By.CLASS_NAME, \"resultbox_address\").text\n",
    "    phone = info[i].find_element(By.CLASS_NAME,'callcontent').text\n",
    "    rating = info[i].find_element(By.CLASS_NAME,'resultbox_countrate').text\n",
    "\n",
    "    name_list.append(name)\n",
    "    addr_list.append(addr)\n",
    "    phone_list.append(phone[1:])\n",
    "    rating_list.append(rating)"
   ]
  },
  {
   "cell_type": "code",
   "execution_count": 240,
   "id": "23be59db",
   "metadata": {},
   "outputs": [],
   "source": [
    "data = {\n",
    "    'Hospital/Clinic':name_list,\n",
    "    'Address':addr_list,\n",
    "    'Phone_Number':phone_list,\n",
    "    'Rating':rating_list\n",
    "}\n",
    "\n",
    "df = pd.DataFrame(data)\n"
   ]
  },
  {
   "cell_type": "code",
   "execution_count": 241,
   "id": "eed8f66c",
   "metadata": {},
   "outputs": [
    {
     "data": {
      "text/html": [
       "<div>\n",
       "<style scoped>\n",
       "    .dataframe tbody tr th:only-of-type {\n",
       "        vertical-align: middle;\n",
       "    }\n",
       "\n",
       "    .dataframe tbody tr th {\n",
       "        vertical-align: top;\n",
       "    }\n",
       "\n",
       "    .dataframe thead th {\n",
       "        text-align: right;\n",
       "    }\n",
       "</style>\n",
       "<table border=\"1\" class=\"dataframe\">\n",
       "  <thead>\n",
       "    <tr style=\"text-align: right;\">\n",
       "      <th></th>\n",
       "      <th>Hospital/Clinic</th>\n",
       "      <th>Address</th>\n",
       "      <th>Phone_Number</th>\n",
       "      <th>Rating</th>\n",
       "    </tr>\n",
       "  </thead>\n",
       "  <tbody>\n",
       "    <tr>\n",
       "      <th>0</th>\n",
       "      <td>Dr. Anand Gindodia (dhanvantari Hospital)</td>\n",
       "      <td>Pachkandil Area Lane No 4, Dhule</td>\n",
       "      <td>9035112417</td>\n",
       "      <td>32 Ratings</td>\n",
       "    </tr>\n",
       "    <tr>\n",
       "      <th>1</th>\n",
       "      <td>Dr. Targej Dental Clinic</td>\n",
       "      <td>Datta Mandir Road Dhule Devpur, Dhule</td>\n",
       "      <td>9725956049</td>\n",
       "      <td>15 Ratings</td>\n",
       "    </tr>\n",
       "    <tr>\n",
       "      <th>2</th>\n",
       "      <td>Dr. Deepak Matani (Deepjyot Dental Clinic)</td>\n",
       "      <td>Sakri Road Lalbaug Dhule, Dhule</td>\n",
       "      <td>7411566251</td>\n",
       "      <td>20 Ratings</td>\n",
       "    </tr>\n",
       "    <tr>\n",
       "      <th>3</th>\n",
       "      <td>Omax Maxillofacial and Dental Hospital</td>\n",
       "      <td>Sakri Road Sakri Road, Dhule\\n\"Well connected\"...</td>\n",
       "      <td>7383415277</td>\n",
       "      <td>132 Ratings</td>\n",
       "    </tr>\n",
       "    <tr>\n",
       "      <th>4</th>\n",
       "      <td>Gindodia Hospital</td>\n",
       "      <td>Agra Road Dhule Devpur, Dhule\\n\"Well connected...</td>\n",
       "      <td>7383047822</td>\n",
       "      <td>1,125 Rating</td>\n",
       "    </tr>\n",
       "    <tr>\n",
       "      <th>5</th>\n",
       "      <td>Ekdant Dental and Health Clinic</td>\n",
       "      <td>Keshar Nagar Dhule Devpur, Dhule</td>\n",
       "      <td>9972292878</td>\n",
       "      <td>9 Ratings</td>\n",
       "    </tr>\n",
       "    <tr>\n",
       "      <th>6</th>\n",
       "      <td>Dr. Kavita Nandedkar</td>\n",
       "      <td>Phulwala Chawk Dhule City, Dhule</td>\n",
       "      <td>8460401841</td>\n",
       "      <td>8 Ratings</td>\n",
       "    </tr>\n",
       "    <tr>\n",
       "      <th>7</th>\n",
       "      <td>Smile Care Dental Clinic and Implant Center</td>\n",
       "      <td>Nagar Patti Road Nagar Patti, Dhule</td>\n",
       "      <td>9972294310</td>\n",
       "      <td>12 Ratings</td>\n",
       "    </tr>\n",
       "    <tr>\n",
       "      <th>8</th>\n",
       "      <td>Parmarth Dental Care Dr. Anshuman B Patil</td>\n",
       "      <td>Ganpati Mandir Road Dhule HO, Dhule</td>\n",
       "      <td>9725994178</td>\n",
       "      <td>13 Ratings</td>\n",
       "    </tr>\n",
       "    <tr>\n",
       "      <th>9</th>\n",
       "      <td>Advanced Dental Clinic And Implant Center</td>\n",
       "      <td>Jaihind Chowk Dhule Devpur, Dhule</td>\n",
       "      <td>8460379703</td>\n",
       "      <td>215 Ratings</td>\n",
       "    </tr>\n",
       "  </tbody>\n",
       "</table>\n",
       "</div>"
      ],
      "text/plain": [
       "                               Hospital/Clinic  \\\n",
       "0    Dr. Anand Gindodia (dhanvantari Hospital)   \n",
       "1                     Dr. Targej Dental Clinic   \n",
       "2   Dr. Deepak Matani (Deepjyot Dental Clinic)   \n",
       "3       Omax Maxillofacial and Dental Hospital   \n",
       "4                            Gindodia Hospital   \n",
       "5              Ekdant Dental and Health Clinic   \n",
       "6                         Dr. Kavita Nandedkar   \n",
       "7  Smile Care Dental Clinic and Implant Center   \n",
       "8    Parmarth Dental Care Dr. Anshuman B Patil   \n",
       "9    Advanced Dental Clinic And Implant Center   \n",
       "\n",
       "                                             Address Phone_Number  \\\n",
       "0                   Pachkandil Area Lane No 4, Dhule   9035112417   \n",
       "1              Datta Mandir Road Dhule Devpur, Dhule   9725956049   \n",
       "2                    Sakri Road Lalbaug Dhule, Dhule   7411566251   \n",
       "3  Sakri Road Sakri Road, Dhule\\n\"Well connected\"...   7383415277   \n",
       "4  Agra Road Dhule Devpur, Dhule\\n\"Well connected...   7383047822   \n",
       "5                   Keshar Nagar Dhule Devpur, Dhule   9972292878   \n",
       "6                   Phulwala Chawk Dhule City, Dhule   8460401841   \n",
       "7                Nagar Patti Road Nagar Patti, Dhule   9972294310   \n",
       "8                Ganpati Mandir Road Dhule HO, Dhule   9725994178   \n",
       "9                  Jaihind Chowk Dhule Devpur, Dhule   8460379703   \n",
       "\n",
       "         Rating  \n",
       "0    32 Ratings  \n",
       "1    15 Ratings  \n",
       "2    20 Ratings  \n",
       "3   132 Ratings  \n",
       "4  1,125 Rating  \n",
       "5     9 Ratings  \n",
       "6     8 Ratings  \n",
       "7    12 Ratings  \n",
       "8    13 Ratings  \n",
       "9   215 Ratings  "
      ]
     },
     "execution_count": 241,
     "metadata": {},
     "output_type": "execute_result"
    }
   ],
   "source": [
    "df"
   ]
  },
  {
   "cell_type": "code",
   "execution_count": 242,
   "id": "abfe4f46",
   "metadata": {},
   "outputs": [],
   "source": [
    "with pd.ExcelWriter('Result.xlsx') as writer:\n",
    "    df.to_excel(writer,sheet_name='Dentists List in City')"
   ]
  },
  {
   "cell_type": "code",
   "execution_count": null,
   "id": "6af2a9d1",
   "metadata": {},
   "outputs": [],
   "source": []
  },
  {
   "cell_type": "code",
   "execution_count": null,
   "id": "b43224a1",
   "metadata": {},
   "outputs": [],
   "source": []
  },
  {
   "cell_type": "code",
   "execution_count": null,
   "id": "c15a47f0",
   "metadata": {},
   "outputs": [],
   "source": []
  },
  {
   "cell_type": "code",
   "execution_count": null,
   "id": "bdb94245",
   "metadata": {},
   "outputs": [],
   "source": []
  }
 ],
 "metadata": {
  "kernelspec": {
   "display_name": "Python 3 (ipykernel)",
   "language": "python",
   "name": "python3"
  },
  "language_info": {
   "codemirror_mode": {
    "name": "ipython",
    "version": 3
   },
   "file_extension": ".py",
   "mimetype": "text/x-python",
   "name": "python",
   "nbconvert_exporter": "python",
   "pygments_lexer": "ipython3",
   "version": "3.11.5"
  }
 },
 "nbformat": 4,
 "nbformat_minor": 5
}
